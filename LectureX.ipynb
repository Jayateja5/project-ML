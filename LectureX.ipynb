{
 "cells": [
  {
   "cell_type": "markdown",
   "metadata": {},
   "source": [
    "# Basic Classification demo (cont'd)\n",
    "Last lecture we learned of the *fit* and *predict* paradigm.  Also, we now have a classifier.  We now proceed to the evaluation phase of the quality of our classifier."
   ]
  },
  {
   "cell_type": "markdown",
   "metadata": {},
   "source": [
    "We pick up from where we left off, but halfway through we cange course a bit."
   ]
  },
  {
   "cell_type": "code",
   "execution_count": 1,
   "metadata": {},
   "outputs": [
    {
     "data": {
      "text/plain": [
       "0.98"
      ]
     },
     "execution_count": 1,
     "metadata": {},
     "output_type": "execute_result"
    }
   ],
   "source": [
    "from sklearn import datasets\n",
    "from sklearn.metrics import accuracy_score\n",
    "iris = datasets.load_iris()\n",
    "X = iris.data \n",
    "y = iris.target\n",
    "from sklearn import svm\n",
    "clf = svm.SVC(gamma=0.001, C=100.) #define the SVM classifier.\n",
    "clf.fit(X,y) #let's train this sucker!\n",
    "y_hat=clf.predict(X)\n",
    "accuracy_score(y, y_hat)"
   ]
  },
  {
   "cell_type": "markdown",
   "metadata": {},
   "source": [
    "So we see what we did last time was only a few lines of code.  This is very powerful and we still achieve 98% accuracy (now verified).  We went further to try to do some initial evaluation of our classifier by taking a look at some of the misclassifications."
   ]
  },
  {
   "cell_type": "code",
   "execution_count": 3,
   "metadata": {},
   "outputs": [
    {
     "name": "stdout",
     "output_type": "stream",
     "text": [
      "0 0 0 match\n",
      "1 0 0 match\n",
      "2 0 0 match\n",
      "3 0 0 match\n",
      "4 0 0 match\n",
      "5 0 0 match\n",
      "6 0 0 match\n",
      "7 0 0 match\n",
      "8 0 0 match\n",
      "9 0 0 match\n",
      "10 0 0 match\n",
      "11 0 0 match\n",
      "12 0 0 match\n",
      "13 0 0 match\n",
      "14 0 0 match\n",
      "15 0 0 match\n",
      "16 0 0 match\n",
      "17 0 0 match\n",
      "18 0 0 match\n",
      "19 0 0 match\n",
      "20 0 0 match\n",
      "21 0 0 match\n",
      "22 0 0 match\n",
      "23 0 0 match\n",
      "24 0 0 match\n",
      "25 0 0 match\n",
      "26 0 0 match\n",
      "27 0 0 match\n",
      "28 0 0 match\n",
      "29 0 0 match\n",
      "30 0 0 match\n",
      "31 0 0 match\n",
      "32 0 0 match\n",
      "33 0 0 match\n",
      "34 0 0 match\n",
      "35 0 0 match\n",
      "36 0 0 match\n",
      "37 0 0 match\n",
      "38 0 0 match\n",
      "39 0 0 match\n",
      "40 0 0 match\n",
      "41 0 0 match\n",
      "42 0 0 match\n",
      "43 0 0 match\n",
      "44 0 0 match\n",
      "45 0 0 match\n",
      "46 0 0 match\n",
      "47 0 0 match\n",
      "48 0 0 match\n",
      "49 0 0 match\n",
      "50 1 1 match\n",
      "51 1 1 match\n",
      "52 1 1 match\n",
      "53 1 1 match\n",
      "54 1 1 match\n",
      "55 1 1 match\n",
      "56 1 1 match\n",
      "57 1 1 match\n",
      "58 1 1 match\n",
      "59 1 1 match\n",
      "60 1 1 match\n",
      "61 1 1 match\n",
      "62 1 1 match\n",
      "63 1 1 match\n",
      "64 1 1 match\n",
      "65 1 1 match\n",
      "66 1 1 match\n",
      "67 1 1 match\n",
      "68 1 1 match\n",
      "69 1 1 match\n",
      "70 1 2 no_match\n",
      "71 1 1 match\n",
      "72 1 1 match\n",
      "73 1 1 match\n",
      "74 1 1 match\n",
      "75 1 1 match\n",
      "76 1 1 match\n",
      "77 1 2 no_match\n",
      "78 1 1 match\n",
      "79 1 1 match\n",
      "80 1 1 match\n",
      "81 1 1 match\n",
      "82 1 1 match\n",
      "83 1 2 no_match\n",
      "84 1 1 match\n",
      "85 1 1 match\n",
      "86 1 1 match\n",
      "87 1 1 match\n",
      "88 1 1 match\n",
      "89 1 1 match\n",
      "90 1 1 match\n",
      "91 1 1 match\n",
      "92 1 1 match\n",
      "93 1 1 match\n",
      "94 1 1 match\n",
      "95 1 1 match\n",
      "96 1 1 match\n",
      "97 1 1 match\n",
      "98 1 1 match\n",
      "99 1 1 match\n",
      "100 2 2 match\n",
      "101 2 2 match\n",
      "102 2 2 match\n",
      "103 2 2 match\n",
      "104 2 2 match\n",
      "105 2 2 match\n",
      "106 2 2 match\n",
      "107 2 2 match\n",
      "108 2 2 match\n",
      "109 2 2 match\n",
      "110 2 2 match\n",
      "111 2 2 match\n",
      "112 2 2 match\n",
      "113 2 2 match\n",
      "114 2 2 match\n",
      "115 2 2 match\n",
      "116 2 2 match\n",
      "117 2 2 match\n",
      "118 2 2 match\n",
      "119 2 2 match\n",
      "120 2 2 match\n",
      "121 2 2 match\n",
      "122 2 2 match\n",
      "123 2 2 match\n",
      "124 2 2 match\n",
      "125 2 2 match\n",
      "126 2 2 match\n",
      "127 2 2 match\n",
      "128 2 2 match\n",
      "129 2 2 match\n",
      "130 2 2 match\n",
      "131 2 2 match\n",
      "132 2 2 match\n",
      "133 2 2 match\n",
      "134 2 2 match\n",
      "135 2 2 match\n",
      "136 2 2 match\n",
      "137 2 2 match\n",
      "138 2 2 match\n",
      "139 2 2 match\n",
      "140 2 2 match\n",
      "141 2 2 match\n",
      "142 2 2 match\n",
      "143 2 2 match\n",
      "144 2 2 match\n",
      "145 2 2 match\n",
      "146 2 2 match\n",
      "147 2 2 match\n",
      "148 2 2 match\n",
      "149 2 2 match\n"
     ]
    }
   ],
   "source": [
    "no_matches=[]\n",
    "for i in range(len(y_hat)):\n",
    "    flag='no_match'\n",
    "    if (y_hat[i]==y[i]):\n",
    "        flag='match'\n",
    "    else:\n",
    "        no_matches.append(i)\n",
    "    print i,y[i],y_hat[i],flag"
   ]
  },
  {
   "cell_type": "markdown",
   "metadata": {},
   "source": [
    "The code above almost assuredly can (and should) be vectorized.  This is important enough to have a small aside.  Instead of looping through each value in y and y_hat, we should probably just compare the two vectors directly.  "
   ]
  },
  {
   "cell_type": "code",
   "execution_count": 4,
   "metadata": {},
   "outputs": [],
   "source": [
    "import numpy as np\n",
    "correct_matches=(y==y_hat)\n",
    "false_matches=(y!=y_hat)"
   ]
  },
  {
   "cell_type": "markdown",
   "metadata": {},
   "source": [
    "Here we define two simple vectors that tell us quickly whether the corresponding entries in y and y_hat match.  As with any **logical operator** the entries will be Boolean.  Let's check this out. "
   ]
  },
  {
   "cell_type": "code",
   "execution_count": 5,
   "metadata": {},
   "outputs": [
    {
     "name": "stdout",
     "output_type": "stream",
     "text": [
      "[ True  True  True  True  True  True  True  True  True  True  True  True\n",
      "  True  True  True  True  True  True  True  True  True  True  True  True\n",
      "  True  True  True  True  True  True  True  True  True  True  True  True\n",
      "  True  True  True  True  True  True  True  True  True  True  True  True\n",
      "  True  True  True  True  True  True  True  True  True  True  True  True\n",
      "  True  True  True  True  True  True  True  True  True  True False  True\n",
      "  True  True  True  True  True False  True  True  True  True  True False\n",
      "  True  True  True  True  True  True  True  True  True  True  True  True\n",
      "  True  True  True  True  True  True  True  True  True  True  True  True\n",
      "  True  True  True  True  True  True  True  True  True  True  True  True\n",
      "  True  True  True  True  True  True  True  True  True  True  True  True\n",
      "  True  True  True  True  True  True  True  True  True  True  True  True\n",
      "  True  True  True  True  True  True]\n"
     ]
    }
   ],
   "source": [
    "print correct_matches"
   ]
  },
  {
   "cell_type": "code",
   "execution_count": 6,
   "metadata": {},
   "outputs": [
    {
     "name": "stdout",
     "output_type": "stream",
     "text": [
      "[False False False False False False False False False False False False\n",
      " False False False False False False False False False False False False\n",
      " False False False False False False False False False False False False\n",
      " False False False False False False False False False False False False\n",
      " False False False False False False False False False False False False\n",
      " False False False False False False False False False False  True False\n",
      " False False False False False  True False False False False False  True\n",
      " False False False False False False False False False False False False\n",
      " False False False False False False False False False False False False\n",
      " False False False False False False False False False False False False\n",
      " False False False False False False False False False False False False\n",
      " False False False False False False False False False False False False\n",
      " False False False False False False]\n"
     ]
    }
   ],
   "source": [
    "print false_matches"
   ]
  },
  {
   "cell_type": "markdown",
   "metadata": {},
   "source": [
    "We know that in most programming languages False is 0 and True is non-zero.  For instance"
   ]
  },
  {
   "cell_type": "code",
   "execution_count": 7,
   "metadata": {},
   "outputs": [
    {
     "name": "stdout",
     "output_type": "stream",
     "text": [
      "I told you this was true\n"
     ]
    }
   ],
   "source": [
    "if 17:\n",
    "    print \"I told you this was true\""
   ]
  },
  {
   "cell_type": "markdown",
   "metadata": {},
   "source": [
    "This convenient provides a quick way of determining which is in each category and is achieved by summing the contents of the vector."
   ]
  },
  {
   "cell_type": "code",
   "execution_count": 8,
   "metadata": {},
   "outputs": [
    {
     "name": "stdout",
     "output_type": "stream",
     "text": [
      "147\n",
      "3\n"
     ]
    }
   ],
   "source": [
    "print np.sum(correct_matches)\n",
    "print np.sum(false_matches)"
   ]
  },
  {
   "cell_type": "markdown",
   "metadata": {},
   "source": [
    "And of course we can verify the accuracy as simply $$\\frac{a}{a+b}$$"
   ]
  },
  {
   "cell_type": "code",
   "execution_count": 9,
   "metadata": {},
   "outputs": [
    {
     "name": "stdout",
     "output_type": "stream",
     "text": [
      "0\n"
     ]
    }
   ],
   "source": [
    "print np.sum(correct_matches)/(np.sum(correct_matches)+np.sum(false_matches))"
   ]
  },
  {
   "cell_type": "markdown",
   "metadata": {},
   "source": [
    "So I laid an egg on this one.  Please fix it."
   ]
  },
  {
   "cell_type": "code",
   "execution_count": 10,
   "metadata": {},
   "outputs": [
    {
     "name": "stdout",
     "output_type": "stream",
     "text": [
      "virginica versicolor [5.9 3.2 4.8 1.8]\n",
      "virginica versicolor [6.7 3.  5.  1.7]\n",
      "virginica versicolor [6.  2.7 5.1 1.6]\n"
     ]
    }
   ],
   "source": [
    "for i in no_matches:\n",
    "    print iris.target_names[y_hat[i]],iris.target_names[y[i]],X[i]"
   ]
  },
  {
   "cell_type": "markdown",
   "metadata": {},
   "source": [
    "What if we want to save our classifier and transport it to another student to cheat in this course?  **Note:  Don't do it**.  The process of converting objects to something that can be written to a file is serialization.  In Python a module that serializes all sorts of objects is pickle."
   ]
  },
  {
   "cell_type": "code",
   "execution_count": 11,
   "metadata": {},
   "outputs": [],
   "source": [
    "import pickle\n",
    "pickled_object=pickle.dumps(clf)"
   ]
  },
  {
   "cell_type": "code",
   "execution_count": 17,
   "metadata": {},
   "outputs": [
    {
     "data": {
      "text/plain": [
       "str"
      ]
     },
     "execution_count": 17,
     "metadata": {},
     "output_type": "execute_result"
    }
   ],
   "source": [
    "type(pickled_object)"
   ]
  },
  {
   "cell_type": "code",
   "execution_count": 12,
   "metadata": {},
   "outputs": [
    {
     "name": "stdout",
     "output_type": "stream",
     "text": [
      "ccopy_reg\n",
      "_reconstructor\n",
      "p0\n",
      "(csklearn.svm.classes\n",
      "SVC\n",
      "p1\n",
      "c__builtin__\n",
      "object\n",
      "p2\n",
      "Ntp3\n",
      "Rp4\n",
      "(dp5\n",
      "S'_impl'\n",
      "p6\n",
      "S'c_svc'\n",
      "p7\n",
      "sS'kernel'\n",
      "p8\n",
      "S'rbf'\n",
      "p9\n",
      "sS'verbose'\n",
      "p10\n",
      "I00\n",
      "sS'probability'\n",
      "p11\n",
      "I00\n",
      "sS'classes_'\n",
      "p12\n",
      "cnumpy.core.multiarray\n",
      "_reconstruct\n",
      "p13\n",
      "(cnumpy\n",
      "ndarray\n",
      "p14\n",
      "(I0\n",
      "tp15\n",
      "S'b'\n",
      "p16\n",
      "tp17\n",
      "Rp18\n",
      "(I1\n",
      "(I3\n",
      "tp19\n",
      "cnumpy\n",
      "dtype\n",
      "p20\n",
      "(S'i8'\n",
      "p21\n",
      "I0\n",
      "I1\n",
      "tp22\n",
      "Rp23\n",
      "(I3\n",
      "S'<'\n",
      "p24\n",
      "NNNI-1\n",
      "I-1\n",
      "I0\n",
      "tp25\n",
      "bI00\n",
      "S'\\x00\\x00\\x00\\x00\\x00\\x00\\x00\\x00\\x01\\x00\\x00\\x00\\x00\\x00\\x00\\x00\\x02\\x00\\x00\\x00\\x00\\x00\\x00\\x00'\n",
      "p26\n",
      "tp27\n",
      "bsS'support_'\n",
      "p28\n",
      "g13\n",
      "(g14\n",
      "(I0\n",
      "tp29\n",
      "g16\n",
      "tp30\n",
      "Rp31\n",
      "(I1\n",
      "(I48\n",
      "tp32\n",
      "g20\n",
      "(S'i4'\n",
      "p33\n",
      "I0\n",
      "I1\n",
      "tp34\n",
      "Rp35\n",
      "(I3\n",
      "S'<'\n",
      "p36\n",
      "NNNI-1\n",
      "I-1\n",
      "I0\n",
      "tp37\n",
      "bI00\n",
      "S'\\x17\\x00\\x00\\x00\\x18\\x00\\x00\\x00)\\x00\\x00\\x00,\\x00\\x00\\x002\\x00\\x00\\x003\\x00\\x00\\x004\\x00\\x00\\x006\\x00\\x00\\x007\\x00\\x00\\x008\\x00\\x00\\x009\\x00\\x00\\x00?\\x00\\x00\\x00B\\x00\\x00\\x00D\\x00\\x00\\x00F\\x00\\x00\\x00H\\x00\\x00\\x00I\\x00\\x00\\x00L\\x00\\x00\\x00M\\x00\\x00\\x00N\\x00\\x00\\x00S\\x00\\x00\\x00T\\x00\\x00\\x00U\\x00\\x00\\x00V\\x00\\x00\\x00W\\x00\\x00\\x00[\\x00\\x00\\x00]\\x00\\x00\\x00b\\x00\\x00\\x00e\\x00\\x00\\x00j\\x00\\x00\\x00n\\x00\\x00\\x00o\\x00\\x00\\x00q\\x00\\x00\\x00w\\x00\\x00\\x00y\\x00\\x00\\x00{\\x00\\x00\\x00~\\x00\\x00\\x00\\x7f\\x00\\x00\\x00\\x81\\x00\\x00\\x00\\x85\\x00\\x00\\x00\\x86\\x00\\x00\\x00\\x89\\x00\\x00\\x00\\x8a\\x00\\x00\\x00\\x8d\\x00\\x00\\x00\\x8e\\x00\\x00\\x00\\x92\\x00\\x00\\x00\\x93\\x00\\x00\\x00\\x95\\x00\\x00\\x00'\n",
      "p38\n",
      "tp39\n",
      "bsS'dual_coef_'\n",
      "p40\n",
      "g13\n",
      "(g14\n",
      "(I0\n",
      "tp41\n",
      "g16\n",
      "tp42\n",
      "Rp43\n",
      "(I1\n",
      "(I2\n",
      "I48\n",
      "tp44\n",
      "g20\n",
      "(S'f8'\n",
      "p45\n",
      "I0\n",
      "I1\n",
      "tp46\n",
      "Rp47\n",
      "(I3\n",
      "S'<'\n",
      "p48\n",
      "NNNI-1\n",
      "I-1\n",
      "I0\n",
      "tp49\n",
      "bI00\n",
      "S\"\\x00\\x00\\x00\\x00\\x00\\x00Y@\\x00\\x00\\x00\\x00\\x00\\x00Y@\\x18\\xe8Ku'\\xd7P@Bc\\xe6\\xfa\\xd7-)@\\x00\\x00\\x00\\x00\\x00\\x00\\x00\\x80\\x00\\x00\\x00\\x00\\x00\\x00\\x00\\x80\\x00\\x00\\x00\\x00\\x00\\x00\\x00\\x80\\x00\\x00\\x00\\x00\\x00\\x00\\x00\\x80\\x00\\x00\\x00\\x00\\x00\\x00\\x00\\x80\\x00\\x00\\x00\\x00\\x00\\x00\\x00\\x80\\x00\\x00\\x00\\x00\\x00\\x00Y\\xc0\\x00\\x00\\x00\\x00\\x00\\x00\\x00\\x80\\x00\\x00\\x00\\x00\\x00\\x00\\x00\\x80\\x00\\x00\\x00\\x00\\x00\\x00\\x00\\x80\\x00\\x00\\x00\\x00\\x00\\x00\\x00\\x80\\x00\\x00\\x00\\x00\\x00\\x00\\x00\\x80\\x00\\x00\\x00\\x00\\x00\\x00\\x00\\x80\\x00\\x00\\x00\\x00\\x00\\x00\\x00\\x80\\x00\\x00\\x00\\x00\\x00\\x00\\x00\\x80\\x00\\x00\\x00\\x00\\x00\\x00\\x00\\x80\\x00\\x00\\x00\\x00\\x00\\x00\\x00\\x80\\x00\\x00\\x00\\x00\\x00\\x00\\x00\\x80\\x00\\x00\\x00\\x00\\x00\\x00\\x00\\x80\\x00\\x00\\x00\\x00\\x00\\x00\\x00\\x80\\x00\\x00\\x00\\x00\\x00\\x00\\x00\\x80\\x00\\x00\\x00\\x00\\x00\\x00\\x00\\x80\\x7f\\xb4\\xa8t\\xe2\\xfcS\\xc0\\x00\\x00\\x00\\x00\\x00\\x00Y\\xc0\\x00\\x00\\x00\\x00\\x00\\x00\\x00\\x80\\x00\\x00\\x00\\x00\\x00\\x00Y\\xc0\\x00\\x00\\x00\\x00\\x00\\x00\\x00\\x80\\x00\\x00\\x00\\x00\\x00\\x00\\x00\\x80\\x00\\x00\\x00\\x00\\x00\\x00\\x00\\x80\\x00\\x00\\x00\\x00\\x00\\x00\\x00\\x80\\x00\\x00\\x00\\x00\\x00\\x00\\x00\\x80\\x00\\x00\\x00\\x00\\x00\\x00\\x00\\x80\\x00\\x00\\x00\\x00\\x00\\x00\\x00\\x80\\x00\\x00\\x00\\x00\\x00\\x00\\x00\\x80\\x00\\x00\\x00\\x00\\x00\\x00\\x00\\x80\\x00\\x00\\x00\\x00\\x00\\x00\\x00\\x80\\x00\\x00\\x00\\x00\\x00\\x00\\x00\\x80\\x00\\x00\\x00\\x00\\x00\\x00\\x00\\x80\\x00\\x00\\x00\\x00\\x00\\x00\\x00\\x80\\x00\\x00\\x00\\x00\\x00\\x00\\x00\\x80\\x00\\x00\\x00\\x00\\x00\\x00\\x00\\x80\\x00\\x00\\x00\\x00\\x00\\x00\\x00\\x80\\x00\\x00\\x00\\x00\\x00\\x00\\x00\\x80\\x00\\x00\\x00\\x00\\x00\\x00\\x00\\x80$\\x8f_\\xb0\\x97\\x016@7\\x1c\\xe8\\x13\\x9a\\x7fS@\\x00\\x00\\x00\\x00\\x00\\x00\\x00\\x00\\x00\\x00\\x00\\x00\\x00\\x00\\x00\\x00MA\\xfe\\x88@\\xb5\\x1f@xl\\xaa\\x15\\x19\\x97O@\\x00\\x00\\x00\\x00\\x00\\x00Y@\\x00\\x00\\x00\\x00\\x00\\x00Y@\\x00\\x00\\x00\\x00\\x00\\x00Y@\\x00\\x00\\x00\\x00\\x00\\x00Y@\\x00\\x00\\x00\\x00\\x00\\x00\\x00\\x00\\x00\\x00\\x00\\x00\\x00\\x00Y@\\x00\\x00\\x00\\x00\\x00\\x00Y@\\x00\\x00\\x00\\x00\\x00\\x00Y@\\x00\\x00\\x00\\x00\\x00\\x00Y@\\x00\\x00\\x00\\x00\\x00\\x00Y@\\x00\\x00\\x00\\x00\\x00\\x00Y@\\x00\\x00\\x00\\x00\\x00\\x00Y@\\x00\\x00\\x00\\x00\\x00\\x00Y@\\x00\\x00\\x00\\x00\\x00\\x00Y@\\x00\\x00\\x00\\x00\\x00\\x00Y@\\x00\\x00\\x00\\x00\\x00\\x00Y@\\x00\\x00\\x00\\x00\\x00\\x00Y@\\x00\\x00\\x00\\x00\\x00\\x00Y@\\xd2\\x1e\\xb7\\x84\\xbb?U@\\x00\\x00\\x00\\x00\\x00\\x00Y@\\x00\\x00\\x00\\x00\\x00\\x00\\x00\\x00\\x00\\x00\\x00\\x00\\x00\\x00\\x00\\x00\\x00\\x00\\x00\\x00\\x00\\x00Y\\xc0\\x00\\x00\\x00\\x00\\x00\\x00Y\\xc0\\x00\\x00\\x00\\x00\\x00\\x00Y\\xc0\\x00\\x00\\x00\\x00\\x00\\x00Y\\xc0\\x00\\x00\\x00\\x00\\x00\\x00Y\\xc0\\x00\\x00\\x00\\x00\\x00\\x00Y\\xc0\\x00\\x00\\x00\\x00\\x00\\x00Y\\xc0\\x00\\x00\\x00\\x00\\x00\\x00Y\\xc0\\x00\\x00\\x00\\x00\\x00\\x00Y\\xc0\\x00\\x00\\x00\\x00\\x00\\x00Y\\xc0Dr808\\rL\\xc0\\x00\\x00\\x00\\x00\\x00\\x00Y\\xc0\\x00\\x00\\x00\\x00\\x00\\x00Y\\xc0\\x00\\x00\\x00\\x00\\x00\\x00Y\\xc0\\x00\\x00\\x00\\x00\\x00\\x00Y\\xc0\\x00\\x00\\x00\\x00\\x00\\x00Y\\xc0\\x00\\x00\\x00\\x00\\x00\\x00Y\\xc0\\x00\\x00\\x00\\x00\\x00\\x00Y\\xc0\\x00\\x00\\x00\\x00\\x00\\x00Y\\xc0\\x00\\x00\\x00\\x00\\x00\\x00Y\\xc0\"\n",
      "p50\n",
      "tp51\n",
      "bsS'shrinking'\n",
      "p52\n",
      "I01\n",
      "sS'class_weight'\n",
      "p53\n",
      "NsS'_gamma'\n",
      "p54\n",
      "F0.001\n",
      "sS'probA_'\n",
      "p55\n",
      "g13\n",
      "(g14\n",
      "(I0\n",
      "tp56\n",
      "g16\n",
      "tp57\n",
      "Rp58\n",
      "(I1\n",
      "(I0\n",
      "tp59\n",
      "g47\n",
      "I00\n",
      "S''\n",
      "p60\n",
      "tp61\n",
      "bsS'_sparse'\n",
      "p62\n",
      "I00\n",
      "sS'class_weight_'\n",
      "p63\n",
      "g13\n",
      "(g14\n",
      "(I0\n",
      "tp64\n",
      "g16\n",
      "tp65\n",
      "Rp66\n",
      "(I1\n",
      "(I3\n",
      "tp67\n",
      "g47\n",
      "I00\n",
      "S'\\x00\\x00\\x00\\x00\\x00\\x00\\xf0?\\x00\\x00\\x00\\x00\\x00\\x00\\xf0?\\x00\\x00\\x00\\x00\\x00\\x00\\xf0?'\n",
      "p68\n",
      "tp69\n",
      "bsS'random_state'\n",
      "p70\n",
      "NsS'_sklearn_version'\n",
      "p71\n",
      "S'0.19.0'\n",
      "p72\n",
      "sS'tol'\n",
      "p73\n",
      "F0.001\n",
      "sS'coef0'\n",
      "p74\n",
      "F0.0\n",
      "sS'nu'\n",
      "p75\n",
      "F0.0\n",
      "sS'n_support_'\n",
      "p76\n",
      "g13\n",
      "(g14\n",
      "(I0\n",
      "tp77\n",
      "g16\n",
      "tp78\n",
      "Rp79\n",
      "(I1\n",
      "(I3\n",
      "tp80\n",
      "g35\n",
      "I00\n",
      "S'\\x04\\x00\\x00\\x00\\x18\\x00\\x00\\x00\\x14\\x00\\x00\\x00'\n",
      "p81\n",
      "tp82\n",
      "bsS'shape_fit_'\n",
      "p83\n",
      "(I150\n",
      "I4\n",
      "tp84\n",
      "sS'C'\n",
      "p85\n",
      "F100.0\n",
      "sS'support_vectors_'\n",
      "p86\n",
      "g13\n",
      "(g14\n",
      "(I0\n",
      "tp87\n",
      "g16\n",
      "tp88\n",
      "Rp89\n",
      "(I1\n",
      "(I48\n",
      "I4\n",
      "tp90\n",
      "g47\n",
      "I00\n",
      "S'ffffff\\x14@ffffff\\n@333333\\xfb?\\x00\\x00\\x00\\x00\\x00\\x00\\xe0?333333\\x13@333333\\x0b@ffffff\\xfe?\\x9a\\x99\\x99\\x99\\x99\\x99\\xc9?\\x00\\x00\\x00\\x00\\x00\\x00\\x12@ffffff\\x02@\\xcd\\xcc\\xcc\\xcc\\xcc\\xcc\\xf4?333333\\xd3?ffffff\\x14@ffffff\\x0e@ffffff\\xfe?\\x9a\\x99\\x99\\x99\\x99\\x99\\xd9?\\x00\\x00\\x00\\x00\\x00\\x00\\x1c@\\x9a\\x99\\x99\\x99\\x99\\x99\\t@\\xcd\\xcc\\xcc\\xcc\\xcc\\xcc\\x12@ffffff\\xf6?\\x9a\\x99\\x99\\x99\\x99\\x99\\x19@\\x9a\\x99\\x99\\x99\\x99\\x99\\t@\\x00\\x00\\x00\\x00\\x00\\x00\\x12@\\x00\\x00\\x00\\x00\\x00\\x00\\xf8?\\x9a\\x99\\x99\\x99\\x99\\x99\\x1b@\\xcd\\xcc\\xcc\\xcc\\xcc\\xcc\\x08@\\x9a\\x99\\x99\\x99\\x99\\x99\\x13@\\x00\\x00\\x00\\x00\\x00\\x00\\xf8?\\x00\\x00\\x00\\x00\\x00\\x00\\x1a@ffffff\\x06@ffffff\\x12@\\x00\\x00\\x00\\x00\\x00\\x00\\xf8?\\xcd\\xcc\\xcc\\xcc\\xcc\\xcc\\x16@ffffff\\x06@\\x00\\x00\\x00\\x00\\x00\\x00\\x12@\\xcd\\xcc\\xcc\\xcc\\xcc\\xcc\\xf4?333333\\x19@ffffff\\n@\\xcd\\xcc\\xcc\\xcc\\xcc\\xcc\\x12@\\x9a\\x99\\x99\\x99\\x99\\x99\\xf9?\\x9a\\x99\\x99\\x99\\x99\\x99\\x13@333333\\x03@ffffff\\n@\\x00\\x00\\x00\\x00\\x00\\x00\\xf0?ffffff\\x18@333333\\x07@\\xcd\\xcc\\xcc\\xcc\\xcc\\xcc\\x12@ffffff\\xf6?ffffff\\x16@\\x00\\x00\\x00\\x00\\x00\\x00\\x08@\\x00\\x00\\x00\\x00\\x00\\x00\\x12@\\x00\\x00\\x00\\x00\\x00\\x00\\xf8?\\xcd\\xcc\\xcc\\xcc\\xcc\\xcc\\x18@\\x9a\\x99\\x99\\x99\\x99\\x99\\x01@\\x00\\x00\\x00\\x00\\x00\\x00\\x12@\\x00\\x00\\x00\\x00\\x00\\x00\\xf8?\\x9a\\x99\\x99\\x99\\x99\\x99\\x17@\\x9a\\x99\\x99\\x99\\x99\\x99\\t@333333\\x13@\\xcd\\xcc\\xcc\\xcc\\xcc\\xcc\\xfc?333333\\x19@\\x00\\x00\\x00\\x00\\x00\\x00\\x04@\\x9a\\x99\\x99\\x99\\x99\\x99\\x13@\\x00\\x00\\x00\\x00\\x00\\x00\\xf8?ffffff\\x18@ffffff\\x06@\\xcd\\xcc\\xcc\\xcc\\xcc\\xcc\\x12@333333\\xf3?333333\\x1b@ffffff\\x06@333333\\x13@ffffff\\xf6?\\xcd\\xcc\\xcc\\xcc\\xcc\\xcc\\x1a@\\x00\\x00\\x00\\x00\\x00\\x00\\x08@\\x00\\x00\\x00\\x00\\x00\\x00\\x14@333333\\xfb?\\x00\\x00\\x00\\x00\\x00\\x00\\x18@333333\\x07@\\x00\\x00\\x00\\x00\\x00\\x00\\x12@\\x00\\x00\\x00\\x00\\x00\\x00\\xf8?\\x00\\x00\\x00\\x00\\x00\\x00\\x18@\\x9a\\x99\\x99\\x99\\x99\\x99\\x05@ffffff\\x14@\\x9a\\x99\\x99\\x99\\x99\\x99\\xf9?\\x9a\\x99\\x99\\x99\\x99\\x99\\x15@\\x00\\x00\\x00\\x00\\x00\\x00\\x08@\\x00\\x00\\x00\\x00\\x00\\x00\\x12@\\x00\\x00\\x00\\x00\\x00\\x00\\xf8?\\x00\\x00\\x00\\x00\\x00\\x00\\x18@333333\\x0b@\\x00\\x00\\x00\\x00\\x00\\x00\\x12@\\x9a\\x99\\x99\\x99\\x99\\x99\\xf9?\\xcd\\xcc\\xcc\\xcc\\xcc\\xcc\\x1a@\\xcd\\xcc\\xcc\\xcc\\xcc\\xcc\\x08@\\xcd\\xcc\\xcc\\xcc\\xcc\\xcc\\x12@\\x00\\x00\\x00\\x00\\x00\\x00\\xf8?333333\\x19@ffffff\\x02@\\x9a\\x99\\x99\\x99\\x99\\x99\\x11@\\xcd\\xcc\\xcc\\xcc\\xcc\\xcc\\xf4?ffffff\\x18@\\x00\\x00\\x00\\x00\\x00\\x00\\x08@ffffff\\x12@ffffff\\xf6?\\x00\\x00\\x00\\x00\\x00\\x00\\x14@ffffff\\x02@ffffff\\n@\\x00\\x00\\x00\\x00\\x00\\x00\\xf0?ffffff\\x14@\\x00\\x00\\x00\\x00\\x00\\x00\\x04@\\x00\\x00\\x00\\x00\\x00\\x00\\x08@\\x9a\\x99\\x99\\x99\\x99\\x99\\xf1?333333\\x17@\\x9a\\x99\\x99\\x99\\x99\\x99\\x05@ffffff\\x14@ffffff\\xfe?\\x9a\\x99\\x99\\x99\\x99\\x99\\x13@\\x00\\x00\\x00\\x00\\x00\\x00\\x04@\\x00\\x00\\x00\\x00\\x00\\x00\\x12@333333\\xfb?\\x00\\x00\\x00\\x00\\x00\\x00\\x1a@\\x9a\\x99\\x99\\x99\\x99\\x99\\t@ffffff\\x14@\\x00\\x00\\x00\\x00\\x00\\x00\\x00@\\x9a\\x99\\x99\\x99\\x99\\x99\\x19@\\x9a\\x99\\x99\\x99\\x99\\x99\\x05@333333\\x15@ffffff\\xfe?\\xcd\\xcc\\xcc\\xcc\\xcc\\xcc\\x16@\\x00\\x00\\x00\\x00\\x00\\x00\\x04@\\x00\\x00\\x00\\x00\\x00\\x00\\x14@\\x00\\x00\\x00\\x00\\x00\\x00\\x00@\\x00\\x00\\x00\\x00\\x00\\x00\\x18@\\x9a\\x99\\x99\\x99\\x99\\x99\\x01@\\x00\\x00\\x00\\x00\\x00\\x00\\x14@\\x00\\x00\\x00\\x00\\x00\\x00\\xf8?ffffff\\x16@ffffff\\x06@\\x9a\\x99\\x99\\x99\\x99\\x99\\x13@\\x00\\x00\\x00\\x00\\x00\\x00\\x00@333333\\x19@\\x9a\\x99\\x99\\x99\\x99\\x99\\x05@\\x9a\\x99\\x99\\x99\\x99\\x99\\x13@\\xcd\\xcc\\xcc\\xcc\\xcc\\xcc\\xfc?\\xcd\\xcc\\xcc\\xcc\\xcc\\xcc\\x18@ffffff\\x06@333333\\x13@\\xcd\\xcc\\xcc\\xcc\\xcc\\xcc\\xfc?ffffff\\x18@\\x00\\x00\\x00\\x00\\x00\\x00\\x08@\\x9a\\x99\\x99\\x99\\x99\\x99\\x13@\\xcd\\xcc\\xcc\\xcc\\xcc\\xcc\\xfc?\\xcd\\xcc\\xcc\\xcc\\xcc\\xcc\\x1c@\\x00\\x00\\x00\\x00\\x00\\x00\\x08@333333\\x17@\\x9a\\x99\\x99\\x99\\x99\\x99\\xf9?333333\\x19@ffffff\\x06@ffffff\\x14@\\x00\\x00\\x00\\x00\\x00\\x00\\xf8?ffffff\\x18@\\xcd\\xcc\\xcc\\xcc\\xcc\\xcc\\x04@ffffff\\x16@ffffff\\xf6?\\x9a\\x99\\x99\\x99\\x99\\x99\\x19@\\xcd\\xcc\\xcc\\xcc\\xcc\\xcc\\x08@\\x00\\x00\\x00\\x00\\x00\\x00\\x16@\\xcd\\xcc\\xcc\\xcc\\xcc\\xcc\\xfc?\\x00\\x00\\x00\\x00\\x00\\x00\\x18@\\x00\\x00\\x00\\x00\\x00\\x00\\x08@333333\\x13@\\xcd\\xcc\\xcc\\xcc\\xcc\\xcc\\xfc?\\x9a\\x99\\x99\\x99\\x99\\x99\\x1b@\\xcd\\xcc\\xcc\\xcc\\xcc\\xcc\\x08@ffffff\\x14@ffffff\\x02@333333\\x17@\\x9a\\x99\\x99\\x99\\x99\\x99\\x05@ffffff\\x14@ffffff\\xfe?333333\\x19@\\x00\\x00\\x00\\x00\\x00\\x00\\x04@\\x00\\x00\\x00\\x00\\x00\\x00\\x14@ffffff\\xfe?\\x00\\x00\\x00\\x00\\x00\\x00\\x1a@\\x00\\x00\\x00\\x00\\x00\\x00\\x08@\\xcd\\xcc\\xcc\\xcc\\xcc\\xcc\\x14@\\x00\\x00\\x00\\x00\\x00\\x00\\x00@\\x9a\\x99\\x99\\x99\\x99\\x99\\x17@\\x00\\x00\\x00\\x00\\x00\\x00\\x08@ffffff\\x14@\\xcd\\xcc\\xcc\\xcc\\xcc\\xcc\\xfc?'\n",
      "p91\n",
      "tp92\n",
      "bsS'_dual_coef_'\n",
      "p93\n",
      "g43\n",
      "sS'degree'\n",
      "p94\n",
      "I3\n",
      "sS'epsilon'\n",
      "p95\n",
      "F0.0\n",
      "sS'max_iter'\n",
      "p96\n",
      "I-1\n",
      "sS'decision_function_shape'\n",
      "p97\n",
      "S'ovr'\n",
      "p98\n",
      "sS'fit_status_'\n",
      "p99\n",
      "I0\n",
      "sS'_intercept_'\n",
      "p100\n",
      "g13\n",
      "(g14\n",
      "(I0\n",
      "tp101\n",
      "g16\n",
      "tp102\n",
      "Rp103\n",
      "(I1\n",
      "(I3\n",
      "tp104\n",
      "g47\n",
      "I00\n",
      "S'Mp@+>\\xee\\xbf?\\x00\\xfe\\xff\\xff\\x8f\\x85\\x9b?ad\\xbe\\xfb\\xadP\\xc7\\xbf'\n",
      "p105\n",
      "tp106\n",
      "bsS'intercept_'\n",
      "p107\n",
      "g13\n",
      "(g14\n",
      "(I0\n",
      "tp108\n",
      "g16\n",
      "tp109\n",
      "Rp110\n",
      "(I1\n",
      "(I3\n",
      "tp111\n",
      "g47\n",
      "I00\n",
      "S'Mp@+>\\xee\\xbf?\\x00\\xfe\\xff\\xff\\x8f\\x85\\x9b?ad\\xbe\\xfb\\xadP\\xc7\\xbf'\n",
      "p112\n",
      "tp113\n",
      "bsS'probB_'\n",
      "p114\n",
      "g13\n",
      "(g14\n",
      "(I0\n",
      "tp115\n",
      "g16\n",
      "tp116\n",
      "Rp117\n",
      "(I1\n",
      "(I0\n",
      "tp118\n",
      "g47\n",
      "I00\n",
      "g60\n",
      "tp119\n",
      "bsS'cache_size'\n",
      "p120\n",
      "I200\n",
      "sS'gamma'\n",
      "p121\n",
      "F0.001\n",
      "sb.\n"
     ]
    }
   ],
   "source": [
    "print(pickled_object)"
   ]
  },
  {
   "cell_type": "markdown",
   "metadata": {},
   "source": [
    "So pickled_object is just a string that can be written to a file.  We can prove that this object can be copied to another and retain the same functionality."
   ]
  },
  {
   "cell_type": "code",
   "execution_count": 13,
   "metadata": {},
   "outputs": [
    {
     "name": "stdout",
     "output_type": "stream",
     "text": [
      "<class 'sklearn.svm.classes.SVC'>\n"
     ]
    }
   ],
   "source": [
    "clf2=pickle.loads(pickled_object)\n",
    "print type(clf2)"
   ]
  },
  {
   "cell_type": "code",
   "execution_count": 14,
   "metadata": {},
   "outputs": [
    {
     "data": {
      "text/plain": [
       "0.98"
      ]
     },
     "execution_count": 14,
     "metadata": {},
     "output_type": "execute_result"
    }
   ],
   "source": [
    "y_hat2=clf2.predict(X)\n",
    "accuracy_score(y, y_hat2)"
   ]
  },
  {
   "cell_type": "markdown",
   "metadata": {},
   "source": [
    "We got the same result!  This might not be that handy in this class, but the concept of serialization is a fundamental and valuable one.  Let's go on to other forms of evaluation.  We first cover a fundamental one, the confusion matrix.  This is easy to code, but is important to understand."
   ]
  },
  {
   "cell_type": "code",
   "execution_count": 15,
   "metadata": {},
   "outputs": [
    {
     "name": "stdout",
     "output_type": "stream",
     "text": [
      "[[50  0  0]\n",
      " [ 0 47  3]\n",
      " [ 0  0 50]]\n"
     ]
    }
   ],
   "source": [
    "from sklearn.metrics import confusion_matrix\n",
    "#confusion_matrix(y_true, y_pred, labels=None, sample_weight=None)\n",
    "print confusion_matrix(y, y_hat)"
   ]
  },
  {
   "cell_type": "markdown",
   "metadata": {},
   "source": [
    "So the confusion matrix is square with a row and column for each class.  Each row represents the predicted class while each column represents the actual class.  With that in mind let's talk about what the previous confusion matrix means."
   ]
  },
  {
   "cell_type": "markdown",
   "metadata": {},
   "source": [
    "We see that we have classified all 150 patterns using the entire training set, but we have no idea how this will perform in the wild.  Proper meethodology is to split the dataset up into training and test (sometimes called validation).  Let's see how we perform with different split sizes.  Guesses?  There are some interesting ways to split a dataset up, but scikit-learn has a nice little function called train_test_split that does a lot of the hard work for you in a single line of code."
   ]
  },
  {
   "cell_type": "code",
   "execution_count": 27,
   "metadata": {},
   "outputs": [],
   "source": [
    "from sklearn.model_selection import train_test_split\n",
    "p=0.9\n",
    "X_train, X_test, y_train, y_test = train_test_split(X, y, train_size=p,shuffle=False)"
   ]
  },
  {
   "cell_type": "code",
   "execution_count": 28,
   "metadata": {},
   "outputs": [
    {
     "name": "stdout",
     "output_type": "stream",
     "text": [
      "(135, 4) (15, 4) (135,) (15,)\n"
     ]
    }
   ],
   "source": [
    "print X_train.shape,X_test.shape,y_train.shape,y_test.shape"
   ]
  },
  {
   "cell_type": "code",
   "execution_count": 29,
   "metadata": {},
   "outputs": [
    {
     "name": "stdout",
     "output_type": "stream",
     "text": [
      "0.9629629629629629\n",
      "0.9333333333333333\n"
     ]
    }
   ],
   "source": [
    "clf.fit(X_train,y_train)\n",
    "y1=clf.predict(X_train)\n",
    "print accuracy_score(y_train,y1)\n",
    "y_test_hat=clf.predict(X_test)\n",
    "print accuracy_score(y_test,y_test_hat)"
   ]
  },
  {
   "cell_type": "markdown",
   "metadata": {},
   "source": [
    "We will play around with different train_test splits just to see what happens.  For project based work it's probably best to dispense with the Jupyter notebook and use a real Python script.  This will be subject of Tuesday's lecture.  We now move on to the dataset of our first project to try to help you get some familiarity with this very famous data. "
   ]
  },
  {
   "cell_type": "code",
   "execution_count": 31,
   "metadata": {},
   "outputs": [],
   "source": [
    "from sklearn.datasets import fetch_mldata\n",
    "mnist = fetch_mldata('MNIST original', data_home='.')\n"
   ]
  },
  {
   "cell_type": "code",
   "execution_count": 32,
   "metadata": {},
   "outputs": [
    {
     "name": "stdout",
     "output_type": "stream",
     "text": [
      "['data', 'COL_NAMES', 'DESCR', 'target']\n",
      "(70000, 784)\n",
      "(70000,)\n"
     ]
    }
   ],
   "source": [
    "print mnist.keys()\n",
    "print mnist.data.shape\n",
    "print mnist.target.shape"
   ]
  },
  {
   "cell_type": "code",
   "execution_count": 41,
   "metadata": {},
   "outputs": [
    {
     "name": "stdout",
     "output_type": "stream",
     "text": [
      "['label', 'data']\n",
      "mldata.org dataset: mnist-original\n",
      "70000\n"
     ]
    }
   ],
   "source": [
    "print mnist['COL_NAMES']\n",
    "print mnist['DESCR']\n",
    "print len(mnist['target'])"
   ]
  },
  {
   "cell_type": "code",
   "execution_count": 51,
   "metadata": {},
   "outputs": [],
   "source": [
    "zero1=mnist.data[57789]\n",
    "zero1.shape\n",
    "zero1=np.reshape(zero1,(28,28))"
   ]
  },
  {
   "cell_type": "code",
   "execution_count": 53,
   "metadata": {},
   "outputs": [
    {
     "data": {
      "image/png": "[encoded data removed]",
      "text/plain": [
       "<matplotlib.figure.Figure at 0x7f193bfbd650>"
      ]
     },
     "metadata": {},
     "output_type": "display_data"
    },
    {
     "name": "stdout",
     "output_type": "stream",
     "text": [
      "9.0\n"
     ]
    }
   ],
   "source": [
    "import matplotlib.pyplot as plt\n",
    "plt.imshow(zero1,cmap='gray')\n",
    "plt.show()\n",
    "print mnist['target'][57789]"
   ]
  },
  {
   "cell_type": "markdown",
   "metadata": {},
   "source": [
    "It might be a good idea to create a small Python script to print out a few images outside of the notebook environment."
   ]
  },
  {
   "cell_type": "code",
   "execution_count": 54,
   "metadata": {},
   "outputs": [
    {
     "data": {
      "text/plain": [
       "numpy.ndarray"
      ]
     },
     "execution_count": 54,
     "metadata": {},
     "output_type": "execute_result"
    }
   ],
   "source": [
    "type(zero1)"
   ]
  },
  {
   "cell_type": "code",
   "execution_count": 60,
   "metadata": {},
   "outputs": [
    {
     "data": {
      "text/plain": [
       "253"
      ]
     },
     "execution_count": 60,
     "metadata": {},
     "output_type": "execute_result"
    }
   ],
   "source": [
    "zero1[15][15]"
   ]
  },
  {
   "cell_type": "code",
   "execution_count": 61,
   "metadata": {},
   "outputs": [
    {
     "data": {
      "text/plain": [
       "255"
      ]
     },
     "execution_count": 61,
     "metadata": {},
     "output_type": "execute_result"
    }
   ],
   "source": [
    "np.max(zero1)"
   ]
  },
  {
   "cell_type": "code",
   "execution_count": 62,
   "metadata": {},
   "outputs": [
    {
     "data": {
      "text/plain": [
       "0"
      ]
     },
     "execution_count": 62,
     "metadata": {},
     "output_type": "execute_result"
    }
   ],
   "source": [
    "np.min(zero1)"
   ]
  },
  {
   "cell_type": "code",
   "execution_count": 63,
   "metadata": {},
   "outputs": [],
   "source": [
    "zero2=255-zero1"
   ]
  },
  {
   "cell_type": "code",
   "execution_count": 64,
   "metadata": {},
   "outputs": [
    {
     "data": {
      "image/png": "[encoded data removed]",
      "text/plain": [
       "<matplotlib.figure.Figure at 0x7f193bf04e50>"
      ]
     },
     "metadata": {},
     "output_type": "display_data"
    }
   ],
   "source": [
    "plt.imshow(zero2,cmap='gray')\n",
    "plt.show()"
   ]
  },
  {
   "cell_type": "code",
   "execution_count": null,
   "metadata": {},
   "outputs": [],
   "source": []
  }
 ],
 "metadata": {
  "kernelspec": {
   "display_name": "Python 2",
   "language": "python",
   "name": "python2"
  },
  "language_info": {
   "codemirror_mode": {
    "name": "ipython",
    "version": 2
   },
   "file_extension": ".py",
   "mimetype": "text/x-python",
   "name": "python",
   "nbconvert_exporter": "python",
   "pygments_lexer": "ipython2",
   "version": "2.7.13"
  }
 },
 "nbformat": 4,
 "nbformat_minor": 2
}
